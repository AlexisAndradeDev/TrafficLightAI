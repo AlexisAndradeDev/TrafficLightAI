{
  "cells": [
    {
      "cell_type": "code",
      "execution_count": 1,
      "metadata": {
        "id": "1mcBGdTEhTLq"
      },
      "outputs": [],
      "source": [
        "import numpy as np\n",
        "from PIL import Image\n",
        "import tensorflow as tf\n",
        "import numpy as np\n",
        "\n",
        "# Cargar modelo\n",
        "detect_fn = tf.saved_model.load(\"saved_models/640_model/saved_model\")"
      ]
    },
    {
      "cell_type": "code",
      "execution_count": 2,
      "metadata": {},
      "outputs": [
        {
          "name": "stderr",
          "output_type": "stream",
          "text": [
            "c:\\Users\\alexi\\AppData\\Local\\Programs\\Python\\Python310\\lib\\site-packages\\tqdm\\auto.py:21: TqdmWarning: IProgress not found. Please update jupyter and ipywidgets. See https://ipywidgets.readthedocs.io/en/stable/user_install.html\n",
            "  from .autonotebook import tqdm as notebook_tqdm\n"
          ]
        }
      ],
      "source": [
        "from datasets import load_dataset\n",
        "\n",
        "raw_dataset = load_dataset(\"ilsilfverskiold/traffic-camera-norway-images\")\n"
      ]
    },
    {
      "cell_type": "code",
      "execution_count": 3,
      "metadata": {
        "id": "yPYG9ekXbQYw"
      },
      "outputs": [],
      "source": [
        "# Cargar imagen de prueba\n",
        "image = raw_dataset['train'][12]['image']\n",
        "\n",
        "# Preprocesar imagen\n",
        "input_tensor = tf.convert_to_tensor(image)\n",
        "input_tensor = input_tensor[tf.newaxis, ...]\n",
        "\n",
        "# Ejecutar inferencia\n",
        "detections = detect_fn(input_tensor)"
      ]
    },
    {
      "cell_type": "code",
      "execution_count": null,
      "metadata": {},
      "outputs": [
        {
          "name": "stdout",
          "output_type": "stream",
          "text": [
            "[ 3.  3.  6.  6.  8.  3.  8.  8.  3.  8.  6.  3.  3.  8.  3.  8.  3.  8.\n",
            "  8.  3.  8.  7.  8. 17.  3.  3.  3.  6.  6.  3.  6.  3.  3.  3.  7.  3.\n",
            "  3.  3.  8.  8.  3.  3.  3. 15.  3.  3.  3.  3.  3.  8.  6.  3. 19.  3.\n",
            "  3. 15. 28.  3.  3.  3.  6.  3.  7.  3.  3.  3.  3.  3.  7. 15.  3.  6.\n",
            "  3.  3.  3.  8.  3.  3.  7.  8.  3.  8.  3.  3.  3.  3.  1.  3.  3.  1.\n",
            "  3.  8.  3.  3.  3.  3.  8.  3.  3.  3.]\n",
            "195 378 327 471\n",
            "36 494 352 574\n",
            "429 309 477 365\n",
            "195 378 327 471\n",
            "783 226 844 267\n",
            "480 273 511 302\n",
            "786 244 836 269\n",
            "429 309 477 365\n",
            "428 284 459 308\n"
          ]
        }
      ],
      "source": [
        "drawn_image = image.copy()\n",
        "\n",
        "detections = {key:value for key,value in detections.items()}\n",
        "print(detections[\"detection_classes\"][0])\n",
        "\n",
        "# Filter out boxes with classes and confidence > 0.5\n",
        "index_list = [3, 4, 6, 8] # (cars, pickups, motorcycles, trucks)\n",
        "\n",
        "mask = np.isin(detections[\"detection_classes\"][0], index_list)\n",
        "boxes = detections[\"detection_boxes\"][0][mask]\n",
        "scores = detections[\"detection_scores\"][0][mask]\n",
        "\n",
        "# Filter boxes with confidence > threshold\n",
        "threshold = 0.3\n",
        "boxes = boxes[scores > threshold]\n",
        "scores = scores[scores > threshold]\n",
        "\n",
        "for box in boxes:\n",
        "    ymin, xmin, ymax, xmax = [int(val * (image.height if i % 2 == 0 else image.width)) for i, val in enumerate(box)]\n",
        "    print(xmin, ymin, xmax, ymax)\n",
        "\n",
        "    drawn_image = np.array(drawn_image)\n",
        "    drawn_image[ymin:ymax, xmin:xmin+2] = [255, 0, 0]\n",
        "    drawn_image[ymin:ymax, xmax:xmax+2] = [255, 0, 0]\n",
        "    drawn_image[ymin:ymin+2, xmin:xmax] = [255, 0, 0]\n",
        "    drawn_image[ymax:ymax+2, xmin:xmax] = [255, 0, 0]\n",
        "    drawn_image = Image.fromarray(drawn_image)\n",
        "\n",
        "drawn_image.show()"
      ]
    },
    {
      "cell_type": "code",
      "execution_count": null,
      "metadata": {
        "colab": {
          "base_uri": "https://localhost:8080/"
        },
        "id": "FVmJxnp_cvSG",
        "outputId": "94738273-acb0-4436-9ddb-746450becfe4"
      },
      "outputs": [
        {
          "name": "stdout",
          "output_type": "stream",
          "text": [
            "hay 3 vehículos en la imagen.\n"
          ]
        }
      ],
      "source": [
        "detected_classes = detections['detection_classes'][0].numpy() #guarda las clases detectadas\n",
        "deteceted_scores = detections['detection_scores'][0].numpy() #guarda la puntuación  de cada predicción, para considerarla le puse que sea mayor a .50\n",
        "\n",
        "count = 0\n",
        "\n",
        "for i in range(len(detected_classes)):\n",
        "  if detected_classes[i] in index_list and deteceted_scores[i] >= .50: #podría ser mayor a .50 para mayor precisión\n",
        "    count += 1\n",
        "\n",
        "print(f'hay {count} vehículos en la imagen.')"
      ]
    },
    {
      "cell_type": "code",
      "execution_count": null,
      "metadata": {
        "id": "YDw1wkedmGZ0"
      },
      "outputs": [],
      "source": []
    }
  ],
  "metadata": {
    "colab": {
      "provenance": []
    },
    "kernelspec": {
      "display_name": "Python 3",
      "name": "python3"
    },
    "language_info": {
      "codemirror_mode": {
        "name": "ipython",
        "version": 3
      },
      "file_extension": ".py",
      "mimetype": "text/x-python",
      "name": "python",
      "nbconvert_exporter": "python",
      "pygments_lexer": "ipython3",
      "version": "3.10.5"
    }
  },
  "nbformat": 4,
  "nbformat_minor": 0
}
